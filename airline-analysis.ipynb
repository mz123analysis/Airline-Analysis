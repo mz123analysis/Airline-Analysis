{
 "cells": [
  {
   "cell_type": "markdown",
   "id": "b9a854d1",
   "metadata": {
    "papermill": {
     "duration": 0.00925,
     "end_time": "2022-07-31T23:00:03.730364",
     "exception": false,
     "start_time": "2022-07-31T23:00:03.721114",
     "status": "completed"
    },
    "tags": []
   },
   "source": [
    "The goal for this analysis is to see if we can predict a delay. We will be using the Airlines dataset from the Airlines dataset to predict a delay. We will first look data and do some basic analysis. We will be using python to access, interact, and visualize our data."
   ]
  },
  {
   "cell_type": "code",
   "execution_count": 1,
   "id": "f81549af",
   "metadata": {
    "_cell_guid": "b1076dfc-b9ad-4769-8c92-a6c4dae69d19",
    "_uuid": "8f2839f25d086af736a60e9eeb907d3b93b6e0e5",
    "execution": {
     "iopub.execute_input": "2022-07-31T23:00:03.749016Z",
     "iopub.status.busy": "2022-07-31T23:00:03.748097Z",
     "iopub.status.idle": "2022-07-31T23:00:05.069737Z",
     "shell.execute_reply": "2022-07-31T23:00:05.068799Z"
    },
    "papermill": {
     "duration": 1.334611,
     "end_time": "2022-07-31T23:00:05.073062",
     "exception": false,
     "start_time": "2022-07-31T23:00:03.738451",
     "status": "completed"
    },
    "tags": []
   },
   "outputs": [
    {
     "name": "stdout",
     "output_type": "stream",
     "text": [
      "/kaggle/input/airlines-dataset-to-predict-a-delay/Airlines.csv\n"
     ]
    }
   ],
   "source": [
    "# This Python 3 environment comes with many helpful analytics libraries installed\n",
    "# It is defined by the kaggle/python Docker image: https://github.com/kaggle/docker-python\n",
    "# For example, here's several helpful packages to load\n",
    "\n",
    "import numpy as np # linear algebra\n",
    "import pandas as pd # data processing, CSV file I/O (e.g. pd.read_csv)\n",
    "import matplotlib.pyplot as plt\n",
    "import seaborn as sb\n",
    "\n",
    "\n",
    "# Input data files are available in the read-only \"../input/\" directory\n",
    "# For example, running this (by clicking run or pressing Shift+Enter) will list all files under the input directory\n",
    "\n",
    "import os\n",
    "for dirname, _, filenames in os.walk('/kaggle/input'):\n",
    "    for filename in filenames:\n",
    "        print(os.path.join(dirname, filename))\n",
    "\n",
    "# You can write up to 20GB to the current directory (/kaggle/working/) that gets preserved as output when you create a version using \"Save & Run All\" \n",
    "# You can also write temporary files to /kaggle/temp/, but they won't be saved outside of the current session"
   ]
  },
  {
   "cell_type": "markdown",
   "id": "136a3237",
   "metadata": {
    "papermill": {
     "duration": 0.007584,
     "end_time": "2022-07-31T23:00:05.088785",
     "exception": false,
     "start_time": "2022-07-31T23:00:05.081201",
     "status": "completed"
    },
    "tags": []
   },
   "source": [
    "We first will access our data and take a look at what we are working with."
   ]
  },
  {
   "cell_type": "code",
   "execution_count": 2,
   "id": "28da3cd4",
   "metadata": {
    "execution": {
     "iopub.execute_input": "2022-07-31T23:00:05.107694Z",
     "iopub.status.busy": "2022-07-31T23:00:05.106506Z",
     "iopub.status.idle": "2022-07-31T23:00:05.942600Z",
     "shell.execute_reply": "2022-07-31T23:00:05.941109Z"
    },
    "papermill": {
     "duration": 0.849161,
     "end_time": "2022-07-31T23:00:05.945916",
     "exception": false,
     "start_time": "2022-07-31T23:00:05.096755",
     "status": "completed"
    },
    "tags": []
   },
   "outputs": [],
   "source": [
    "airlines = pd.read_csv('/kaggle/input/airlines-dataset-to-predict-a-delay/Airlines.csv')"
   ]
  },
  {
   "cell_type": "code",
   "execution_count": 3,
   "id": "3350469c",
   "metadata": {
    "execution": {
     "iopub.execute_input": "2022-07-31T23:00:05.964257Z",
     "iopub.status.busy": "2022-07-31T23:00:05.963746Z",
     "iopub.status.idle": "2022-07-31T23:00:06.179445Z",
     "shell.execute_reply": "2022-07-31T23:00:06.177073Z"
    },
    "papermill": {
     "duration": 0.228094,
     "end_time": "2022-07-31T23:00:06.181979",
     "exception": false,
     "start_time": "2022-07-31T23:00:05.953885",
     "status": "completed"
    },
    "tags": []
   },
   "outputs": [
    {
     "name": "stdout",
     "output_type": "stream",
     "text": [
      "<class 'pandas.core.frame.DataFrame'>\n",
      "RangeIndex: 539383 entries, 0 to 539382\n",
      "Data columns (total 9 columns):\n",
      " #   Column       Non-Null Count   Dtype \n",
      "---  ------       --------------   ----- \n",
      " 0   id           539383 non-null  int64 \n",
      " 1   Airline      539383 non-null  object\n",
      " 2   Flight       539383 non-null  int64 \n",
      " 3   AirportFrom  539383 non-null  object\n",
      " 4   AirportTo    539383 non-null  object\n",
      " 5   DayOfWeek    539383 non-null  int64 \n",
      " 6   Time         539383 non-null  int64 \n",
      " 7   Length       539383 non-null  int64 \n",
      " 8   Delay        539383 non-null  int64 \n",
      "dtypes: int64(6), object(3)\n",
      "memory usage: 37.0+ MB\n"
     ]
    }
   ],
   "source": [
    "airlines.info()"
   ]
  },
  {
   "cell_type": "code",
   "execution_count": 4,
   "id": "32aab2f0",
   "metadata": {
    "execution": {
     "iopub.execute_input": "2022-07-31T23:00:06.200820Z",
     "iopub.status.busy": "2022-07-31T23:00:06.199485Z",
     "iopub.status.idle": "2022-07-31T23:00:06.337981Z",
     "shell.execute_reply": "2022-07-31T23:00:06.336478Z"
    },
    "papermill": {
     "duration": 0.151115,
     "end_time": "2022-07-31T23:00:06.341293",
     "exception": false,
     "start_time": "2022-07-31T23:00:06.190178",
     "status": "completed"
    },
    "tags": []
   },
   "outputs": [
    {
     "data": {
      "text/html": [
       "<div>\n",
       "<style scoped>\n",
       "    .dataframe tbody tr th:only-of-type {\n",
       "        vertical-align: middle;\n",
       "    }\n",
       "\n",
       "    .dataframe tbody tr th {\n",
       "        vertical-align: top;\n",
       "    }\n",
       "\n",
       "    .dataframe thead th {\n",
       "        text-align: right;\n",
       "    }\n",
       "</style>\n",
       "<table border=\"1\" class=\"dataframe\">\n",
       "  <thead>\n",
       "    <tr style=\"text-align: right;\">\n",
       "      <th></th>\n",
       "      <th>id</th>\n",
       "      <th>Flight</th>\n",
       "      <th>DayOfWeek</th>\n",
       "      <th>Time</th>\n",
       "      <th>Length</th>\n",
       "      <th>Delay</th>\n",
       "    </tr>\n",
       "  </thead>\n",
       "  <tbody>\n",
       "    <tr>\n",
       "      <th>count</th>\n",
       "      <td>539383.000000</td>\n",
       "      <td>539383.000000</td>\n",
       "      <td>539383.000000</td>\n",
       "      <td>539383.000000</td>\n",
       "      <td>539383.000000</td>\n",
       "      <td>539383.000000</td>\n",
       "    </tr>\n",
       "    <tr>\n",
       "      <th>mean</th>\n",
       "      <td>269692.000000</td>\n",
       "      <td>2427.928630</td>\n",
       "      <td>3.929668</td>\n",
       "      <td>802.728963</td>\n",
       "      <td>132.202007</td>\n",
       "      <td>0.445442</td>\n",
       "    </tr>\n",
       "    <tr>\n",
       "      <th>std</th>\n",
       "      <td>155706.604461</td>\n",
       "      <td>2067.429837</td>\n",
       "      <td>1.914664</td>\n",
       "      <td>278.045911</td>\n",
       "      <td>70.117016</td>\n",
       "      <td>0.497015</td>\n",
       "    </tr>\n",
       "    <tr>\n",
       "      <th>min</th>\n",
       "      <td>1.000000</td>\n",
       "      <td>1.000000</td>\n",
       "      <td>1.000000</td>\n",
       "      <td>10.000000</td>\n",
       "      <td>0.000000</td>\n",
       "      <td>0.000000</td>\n",
       "    </tr>\n",
       "    <tr>\n",
       "      <th>25%</th>\n",
       "      <td>134846.500000</td>\n",
       "      <td>712.000000</td>\n",
       "      <td>2.000000</td>\n",
       "      <td>565.000000</td>\n",
       "      <td>81.000000</td>\n",
       "      <td>0.000000</td>\n",
       "    </tr>\n",
       "    <tr>\n",
       "      <th>50%</th>\n",
       "      <td>269692.000000</td>\n",
       "      <td>1809.000000</td>\n",
       "      <td>4.000000</td>\n",
       "      <td>795.000000</td>\n",
       "      <td>115.000000</td>\n",
       "      <td>0.000000</td>\n",
       "    </tr>\n",
       "    <tr>\n",
       "      <th>75%</th>\n",
       "      <td>404537.500000</td>\n",
       "      <td>3745.000000</td>\n",
       "      <td>5.000000</td>\n",
       "      <td>1035.000000</td>\n",
       "      <td>162.000000</td>\n",
       "      <td>1.000000</td>\n",
       "    </tr>\n",
       "    <tr>\n",
       "      <th>max</th>\n",
       "      <td>539383.000000</td>\n",
       "      <td>7814.000000</td>\n",
       "      <td>7.000000</td>\n",
       "      <td>1439.000000</td>\n",
       "      <td>655.000000</td>\n",
       "      <td>1.000000</td>\n",
       "    </tr>\n",
       "  </tbody>\n",
       "</table>\n",
       "</div>"
      ],
      "text/plain": [
       "                  id         Flight      DayOfWeek           Time  \\\n",
       "count  539383.000000  539383.000000  539383.000000  539383.000000   \n",
       "mean   269692.000000    2427.928630       3.929668     802.728963   \n",
       "std    155706.604461    2067.429837       1.914664     278.045911   \n",
       "min         1.000000       1.000000       1.000000      10.000000   \n",
       "25%    134846.500000     712.000000       2.000000     565.000000   \n",
       "50%    269692.000000    1809.000000       4.000000     795.000000   \n",
       "75%    404537.500000    3745.000000       5.000000    1035.000000   \n",
       "max    539383.000000    7814.000000       7.000000    1439.000000   \n",
       "\n",
       "              Length          Delay  \n",
       "count  539383.000000  539383.000000  \n",
       "mean      132.202007       0.445442  \n",
       "std        70.117016       0.497015  \n",
       "min         0.000000       0.000000  \n",
       "25%        81.000000       0.000000  \n",
       "50%       115.000000       0.000000  \n",
       "75%       162.000000       1.000000  \n",
       "max       655.000000       1.000000  "
      ]
     },
     "execution_count": 4,
     "metadata": {},
     "output_type": "execute_result"
    }
   ],
   "source": [
    "airlines.describe()"
   ]
  },
  {
   "cell_type": "code",
   "execution_count": 5,
   "id": "8903e3ad",
   "metadata": {
    "execution": {
     "iopub.execute_input": "2022-07-31T23:00:06.360409Z",
     "iopub.status.busy": "2022-07-31T23:00:06.359921Z",
     "iopub.status.idle": "2022-07-31T23:00:06.376595Z",
     "shell.execute_reply": "2022-07-31T23:00:06.375549Z"
    },
    "papermill": {
     "duration": 0.028838,
     "end_time": "2022-07-31T23:00:06.378879",
     "exception": false,
     "start_time": "2022-07-31T23:00:06.350041",
     "status": "completed"
    },
    "tags": []
   },
   "outputs": [
    {
     "data": {
      "text/html": [
       "<div>\n",
       "<style scoped>\n",
       "    .dataframe tbody tr th:only-of-type {\n",
       "        vertical-align: middle;\n",
       "    }\n",
       "\n",
       "    .dataframe tbody tr th {\n",
       "        vertical-align: top;\n",
       "    }\n",
       "\n",
       "    .dataframe thead th {\n",
       "        text-align: right;\n",
       "    }\n",
       "</style>\n",
       "<table border=\"1\" class=\"dataframe\">\n",
       "  <thead>\n",
       "    <tr style=\"text-align: right;\">\n",
       "      <th></th>\n",
       "      <th>id</th>\n",
       "      <th>Airline</th>\n",
       "      <th>Flight</th>\n",
       "      <th>AirportFrom</th>\n",
       "      <th>AirportTo</th>\n",
       "      <th>DayOfWeek</th>\n",
       "      <th>Time</th>\n",
       "      <th>Length</th>\n",
       "      <th>Delay</th>\n",
       "    </tr>\n",
       "  </thead>\n",
       "  <tbody>\n",
       "    <tr>\n",
       "      <th>0</th>\n",
       "      <td>1</td>\n",
       "      <td>CO</td>\n",
       "      <td>269</td>\n",
       "      <td>SFO</td>\n",
       "      <td>IAH</td>\n",
       "      <td>3</td>\n",
       "      <td>15</td>\n",
       "      <td>205</td>\n",
       "      <td>1</td>\n",
       "    </tr>\n",
       "    <tr>\n",
       "      <th>1</th>\n",
       "      <td>2</td>\n",
       "      <td>US</td>\n",
       "      <td>1558</td>\n",
       "      <td>PHX</td>\n",
       "      <td>CLT</td>\n",
       "      <td>3</td>\n",
       "      <td>15</td>\n",
       "      <td>222</td>\n",
       "      <td>1</td>\n",
       "    </tr>\n",
       "    <tr>\n",
       "      <th>2</th>\n",
       "      <td>3</td>\n",
       "      <td>AA</td>\n",
       "      <td>2400</td>\n",
       "      <td>LAX</td>\n",
       "      <td>DFW</td>\n",
       "      <td>3</td>\n",
       "      <td>20</td>\n",
       "      <td>165</td>\n",
       "      <td>1</td>\n",
       "    </tr>\n",
       "    <tr>\n",
       "      <th>3</th>\n",
       "      <td>4</td>\n",
       "      <td>AA</td>\n",
       "      <td>2466</td>\n",
       "      <td>SFO</td>\n",
       "      <td>DFW</td>\n",
       "      <td>3</td>\n",
       "      <td>20</td>\n",
       "      <td>195</td>\n",
       "      <td>1</td>\n",
       "    </tr>\n",
       "    <tr>\n",
       "      <th>4</th>\n",
       "      <td>5</td>\n",
       "      <td>AS</td>\n",
       "      <td>108</td>\n",
       "      <td>ANC</td>\n",
       "      <td>SEA</td>\n",
       "      <td>3</td>\n",
       "      <td>30</td>\n",
       "      <td>202</td>\n",
       "      <td>0</td>\n",
       "    </tr>\n",
       "  </tbody>\n",
       "</table>\n",
       "</div>"
      ],
      "text/plain": [
       "   id Airline  Flight AirportFrom AirportTo  DayOfWeek  Time  Length  Delay\n",
       "0   1      CO     269         SFO       IAH          3    15     205      1\n",
       "1   2      US    1558         PHX       CLT          3    15     222      1\n",
       "2   3      AA    2400         LAX       DFW          3    20     165      1\n",
       "3   4      AA    2466         SFO       DFW          3    20     195      1\n",
       "4   5      AS     108         ANC       SEA          3    30     202      0"
      ]
     },
     "execution_count": 5,
     "metadata": {},
     "output_type": "execute_result"
    }
   ],
   "source": [
    "airlines.head()"
   ]
  },
  {
   "cell_type": "markdown",
   "id": "d46f0378",
   "metadata": {
    "papermill": {
     "duration": 0.008108,
     "end_time": "2022-07-31T23:00:06.395706",
     "exception": false,
     "start_time": "2022-07-31T23:00:06.387598",
     "status": "completed"
    },
    "tags": []
   },
   "source": [
    "Now that we have a brief overview of our data, we will see if we need to do any cleaning by checking if theres any null values or duplicate values. There doesn't seem to be anything wrong with the type our columns are."
   ]
  },
  {
   "cell_type": "code",
   "execution_count": 6,
   "id": "edc970cb",
   "metadata": {
    "execution": {
     "iopub.execute_input": "2022-07-31T23:00:06.415492Z",
     "iopub.status.busy": "2022-07-31T23:00:06.413960Z",
     "iopub.status.idle": "2022-07-31T23:00:06.603307Z",
     "shell.execute_reply": "2022-07-31T23:00:06.602123Z"
    },
    "papermill": {
     "duration": 0.201998,
     "end_time": "2022-07-31T23:00:06.606043",
     "exception": false,
     "start_time": "2022-07-31T23:00:06.404045",
     "status": "completed"
    },
    "tags": []
   },
   "outputs": [
    {
     "data": {
      "text/plain": [
       "id             0\n",
       "Airline        0\n",
       "Flight         0\n",
       "AirportFrom    0\n",
       "AirportTo      0\n",
       "DayOfWeek      0\n",
       "Time           0\n",
       "Length         0\n",
       "Delay          0\n",
       "dtype: int64"
      ]
     },
     "execution_count": 6,
     "metadata": {},
     "output_type": "execute_result"
    }
   ],
   "source": [
    "airlines.isnull().sum()"
   ]
  },
  {
   "cell_type": "code",
   "execution_count": 7,
   "id": "65bad810",
   "metadata": {
    "execution": {
     "iopub.execute_input": "2022-07-31T23:00:06.624868Z",
     "iopub.status.busy": "2022-07-31T23:00:06.624398Z",
     "iopub.status.idle": "2022-07-31T23:00:06.992921Z",
     "shell.execute_reply": "2022-07-31T23:00:06.991787Z"
    },
    "papermill": {
     "duration": 0.381411,
     "end_time": "2022-07-31T23:00:06.995850",
     "exception": false,
     "start_time": "2022-07-31T23:00:06.614439",
     "status": "completed"
    },
    "tags": []
   },
   "outputs": [
    {
     "data": {
      "text/plain": [
       "0"
      ]
     },
     "execution_count": 7,
     "metadata": {},
     "output_type": "execute_result"
    }
   ],
   "source": [
    "airlines.duplicated().sum()"
   ]
  },
  {
   "cell_type": "markdown",
   "id": "029b950a",
   "metadata": {
    "papermill": {
     "duration": 0.008743,
     "end_time": "2022-07-31T23:00:07.013795",
     "exception": false,
     "start_time": "2022-07-31T23:00:07.005052",
     "status": "completed"
    },
    "tags": []
   },
   "source": [
    "There seems to be no null values or duplicated values in our data. Since theres no noticable error that we can detect, we will look at our data to see any noticable trends. One thing we notice is that it is hard to distingush the meaning of Time in our dataset. I think it would be better to leave it out for now."
   ]
  },
  {
   "cell_type": "markdown",
   "id": "2185ee2d",
   "metadata": {
    "papermill": {
     "duration": 0.008707,
     "end_time": "2022-07-31T23:00:07.032024",
     "exception": false,
     "start_time": "2022-07-31T23:00:07.023317",
     "status": "completed"
    },
    "tags": []
   },
   "source": [
    "# Airlines and their delays"
   ]
  },
  {
   "cell_type": "markdown",
   "id": "63dc1fc2",
   "metadata": {
    "papermill": {
     "duration": 0.008489,
     "end_time": "2022-07-31T23:00:07.049372",
     "exception": false,
     "start_time": "2022-07-31T23:00:07.040883",
     "status": "completed"
    },
    "tags": []
   },
   "source": [
    "There are 18 unique Airlines in the dataset. We will see how often each airline has delays."
   ]
  },
  {
   "cell_type": "code",
   "execution_count": 8,
   "id": "39e4a9ed",
   "metadata": {
    "execution": {
     "iopub.execute_input": "2022-07-31T23:00:07.069526Z",
     "iopub.status.busy": "2022-07-31T23:00:07.069096Z",
     "iopub.status.idle": "2022-07-31T23:00:07.123538Z",
     "shell.execute_reply": "2022-07-31T23:00:07.122461Z"
    },
    "papermill": {
     "duration": 0.067373,
     "end_time": "2022-07-31T23:00:07.126179",
     "exception": false,
     "start_time": "2022-07-31T23:00:07.058806",
     "status": "completed"
    },
    "tags": []
   },
   "outputs": [
    {
     "data": {
      "text/plain": [
       "array(['CO', 'US', 'AA', 'AS', 'DL', 'B6', 'HA', 'OO', '9E', 'OH', 'EV',\n",
       "       'XE', 'YV', 'UA', 'MQ', 'FL', 'F9', 'WN'], dtype=object)"
      ]
     },
     "execution_count": 8,
     "metadata": {},
     "output_type": "execute_result"
    }
   ],
   "source": [
    "dist_airlines = airlines['Airline'].unique()\n",
    "dist_airlines"
   ]
  },
  {
   "cell_type": "code",
   "execution_count": 9,
   "id": "bab1d02f",
   "metadata": {
    "execution": {
     "iopub.execute_input": "2022-07-31T23:00:07.147056Z",
     "iopub.status.busy": "2022-07-31T23:00:07.146641Z",
     "iopub.status.idle": "2022-07-31T23:00:14.925390Z",
     "shell.execute_reply": "2022-07-31T23:00:14.924077Z"
    },
    "papermill": {
     "duration": 7.792209,
     "end_time": "2022-07-31T23:00:14.928383",
     "exception": false,
     "start_time": "2022-07-31T23:00:07.136174",
     "status": "completed"
    },
    "tags": []
   },
   "outputs": [
    {
     "data": {
      "text/plain": [
       "<AxesSubplot:xlabel='Airline', ylabel='Delay'>"
      ]
     },
     "execution_count": 9,
     "metadata": {},
     "output_type": "execute_result"
    },
    {
     "data": {
      "image/png": "[encoded data removed]",
      "text/plain": [
       "<Figure size 432x288 with 1 Axes>"
      ]
     },
     "metadata": {
      "needs_background": "light"
     },
     "output_type": "display_data"
    }
   ],
   "source": [
    "sb.barplot(x= airlines['Airline'], y = airlines['Delay'])"
   ]
  },
  {
   "cell_type": "markdown",
   "id": "da182144",
   "metadata": {
    "papermill": {
     "duration": 0.009335,
     "end_time": "2022-07-31T23:00:14.947414",
     "exception": false,
     "start_time": "2022-07-31T23:00:14.938079",
     "status": "completed"
    },
    "tags": []
   },
   "source": [
    "It looks like each airline has different amounts of delays. Some airlines are more likely to have delays compared to other airlines. For example, the WN airline are delayed about 70% of the time they have a flight."
   ]
  },
  {
   "cell_type": "markdown",
   "id": "b1e9e9d0",
   "metadata": {
    "papermill": {
     "duration": 0.009296,
     "end_time": "2022-07-31T23:00:14.966628",
     "exception": false,
     "start_time": "2022-07-31T23:00:14.957332",
     "status": "completed"
    },
    "tags": []
   },
   "source": [
    "# Time of day and delays"
   ]
  },
  {
   "cell_type": "markdown",
   "id": "8c7fea9a",
   "metadata": {
    "papermill": {
     "duration": 0.009311,
     "end_time": "2022-07-31T23:00:14.985504",
     "exception": false,
     "start_time": "2022-07-31T23:00:14.976193",
     "status": "completed"
    },
    "tags": []
   },
   "source": [
    "Next we will see if theres any possible relationship between the day of the week and if theres a delay for each airlines"
   ]
  },
  {
   "cell_type": "code",
   "execution_count": 10,
   "id": "e7564a27",
   "metadata": {
    "execution": {
     "iopub.execute_input": "2022-07-31T23:00:15.007877Z",
     "iopub.status.busy": "2022-07-31T23:00:15.007369Z",
     "iopub.status.idle": "2022-07-31T23:00:31.241826Z",
     "shell.execute_reply": "2022-07-31T23:00:31.240388Z"
    },
    "papermill": {
     "duration": 16.249476,
     "end_time": "2022-07-31T23:00:31.245187",
     "exception": false,
     "start_time": "2022-07-31T23:00:14.995711",
     "status": "completed"
    },
    "tags": []
   },
   "outputs": [
    {
     "data": {
      "text/plain": [
       "<seaborn.axisgrid.FacetGrid at 0x7f1be122ac50>"
      ]
     },
     "execution_count": 10,
     "metadata": {},
     "output_type": "execute_result"
    },
    {
     "data": {
      "image/png": "[encoded data removed]",
      "text/plain": [
       "<Figure size 576x900 with 18 Axes>"
      ]
     },
     "metadata": {
      "needs_background": "light"
     },
     "output_type": "display_data"
    }
   ],
   "source": [
    "sb.catplot(data=airlines[airlines.notnull()], x='DayOfWeek',y='Delay',col_wrap = 4,\n",
    "           col= 'Airline', kind=\"bar\", height = 2.5, aspect=.8)"
   ]
  },
  {
   "cell_type": "markdown",
   "id": "90689938",
   "metadata": {
    "papermill": {
     "duration": 0.009698,
     "end_time": "2022-07-31T23:00:31.265561",
     "exception": false,
     "start_time": "2022-07-31T23:00:31.255863",
     "status": "completed"
    },
    "tags": []
   },
   "source": [
    "Based on the barplots, we see that some airlines do not have any relationship between the day it is and if theres a delay. Some airlines do. For example, the airline FL has the about the same amount of delay from Sunday to Wednesday, but it the delay is reduced when it is Thursday to Saturday. The airline B6 has increases of delay on Wednesday and Thurday compared to the rest of the day. A lot of the airlines also seem to have an increase of delay on Sunday."
   ]
  },
  {
   "cell_type": "markdown",
   "id": "c444172a",
   "metadata": {
    "papermill": {
     "duration": 0.009566,
     "end_time": "2022-07-31T23:00:31.285218",
     "exception": false,
     "start_time": "2022-07-31T23:00:31.275652",
     "status": "completed"
    },
    "tags": []
   },
   "source": [
    "# Average Length of the Flight by each airline vs Delay"
   ]
  },
  {
   "cell_type": "code",
   "execution_count": 11,
   "id": "0aae2ca8",
   "metadata": {
    "execution": {
     "iopub.execute_input": "2022-07-31T23:00:31.307036Z",
     "iopub.status.busy": "2022-07-31T23:00:31.306613Z",
     "iopub.status.idle": "2022-07-31T23:00:39.704328Z",
     "shell.execute_reply": "2022-07-31T23:00:39.702894Z"
    },
    "papermill": {
     "duration": 8.412238,
     "end_time": "2022-07-31T23:00:39.707351",
     "exception": false,
     "start_time": "2022-07-31T23:00:31.295113",
     "status": "completed"
    },
    "tags": []
   },
   "outputs": [
    {
     "data": {
      "text/plain": [
       "<AxesSubplot:xlabel='Airline', ylabel='Length'>"
      ]
     },
     "execution_count": 11,
     "metadata": {},
     "output_type": "execute_result"
    },
    {
     "data": {
      "image/png": "[encoded data removed]",
      "text/plain": [
       "<Figure size 432x288 with 1 Axes>"
      ]
     },
     "metadata": {
      "needs_background": "light"
     },
     "output_type": "display_data"
    }
   ],
   "source": [
    "sb.barplot(x = airlines['Airline'], y = airlines['Length'], hue=airlines['Delay']) \n",
    "#They calculate the average length for when there is delay and no delay"
   ]
  },
  {
   "cell_type": "markdown",
   "id": "8a2c4d1c",
   "metadata": {
    "papermill": {
     "duration": 0.011144,
     "end_time": "2022-07-31T23:00:39.729582",
     "exception": false,
     "start_time": "2022-07-31T23:00:39.718438",
     "status": "completed"
    },
    "tags": []
   },
   "source": [
    "One thing that can be seen is that for all the airlines, the flight length when there is a delay are always higher than the flight length when there is no delay. For most airlines, the difference can't be seen, but for CO, US, HA, and UA airlines, there is about a 20 minutes increase in flight length when there are delays."
   ]
  },
  {
   "cell_type": "markdown",
   "id": "149a7e63",
   "metadata": {
    "papermill": {
     "duration": 0.010534,
     "end_time": "2022-07-31T23:00:39.751013",
     "exception": false,
     "start_time": "2022-07-31T23:00:39.740479",
     "status": "completed"
    },
    "tags": []
   },
   "source": [
    "# Final Thoughts\n",
    "\n"
   ]
  },
  {
   "cell_type": "markdown",
   "id": "a3488165",
   "metadata": {
    "papermill": {
     "duration": 0.010356,
     "end_time": "2022-07-31T23:00:39.772223",
     "exception": false,
     "start_time": "2022-07-31T23:00:39.761867",
     "status": "completed"
    },
    "tags": []
   },
   "source": [
    "There are many possible factors that can tie into whether a flight will have a delay or not. Here we will list some of our findings:\n",
    "* The airline you choose may have more delays compared to others\n",
    "* The day of the week you choose your flight to be on.\n",
    "* The length of the flight\n",
    "\n",
    "Some airlines tends to have more delay compared to others. For example, the airline WN has an astounding delay chance of about 69% while the airline YV has a chance of about 24%. Although this seems like the case, we did not see the type of flight it was, the flight path, and many other factors. For example, airline WN may seem to have a higher delay chance but this may be due to that it is a smaller company or that it only handels longer flights. \n",
    "\n",
    "The day of the week you choose your flight to be on also has a impact. A few airlines are not part of this observation, but most airlines have days where they are more delayed than others. This can be seen in our barplots where we see that airlines like B6 has a significantly higher delay on Wednesday and Thursday than the rest of the days compared to airline FL, where it has less delay on Thursday to Saturday.\n",
    "\n",
    "The length of the flight may indicate whether you might have a delay or not. For most airline, there is not difference on the length of the flight, but for a couple few, there is a significant increase of length of the flight when there is a delay when compared to no delay.\n",
    "\n",
    "Although we were able to make these findings, it is not for certain that these are the factors that can indicate delays. We did not use the flight destinations, what type of airline it is, and had one column in our data that was not usable. If we were to potentially use these information, we can get more insight on what can be a good predictor of delays and potentially build a model for it."
   ]
  }
 ],
 "metadata": {
  "kernelspec": {
   "display_name": "Python 3",
   "language": "python",
   "name": "python3"
  },
  "language_info": {
   "codemirror_mode": {
    "name": "ipython",
    "version": 3
   },
   "file_extension": ".py",
   "mimetype": "text/x-python",
   "name": "python",
   "nbconvert_exporter": "python",
   "pygments_lexer": "ipython3",
   "version": "3.7.12"
  },
  "papermill": {
   "default_parameters": {},
   "duration": 48.70378,
   "end_time": "2022-07-31T23:00:40.607783",
   "environment_variables": {},
   "exception": null,
   "input_path": "__notebook__.ipynb",
   "output_path": "__notebook__.ipynb",
   "parameters": {},
   "start_time": "2022-07-31T22:59:51.904003",
   "version": "2.3.4"
  }
 },
 "nbformat": 4,
 "nbformat_minor": 5
}
